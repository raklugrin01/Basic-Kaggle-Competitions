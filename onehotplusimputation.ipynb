{
 "cells": [
  {
   "cell_type": "code",
   "execution_count": 1,
   "metadata": {},
   "outputs": [],
   "source": [
    "# This Python 3 environment comes with many helpful analytics libraries installed\n",
    "# It is defined by the kaggle/python Docker image: https://github.com/kaggle/docker-python\n",
    "# For example, here's several helpful packages to load\n",
    "\n",
    "import numpy as np # linear algebra\n",
    "import pandas as pd # data processing, CSV file I/O (e.g. pd.read_csv)\n",
    "\n",
    "# Input data files are available in the read-only \"../input/\" directory\n",
    "# For example, running this (by clicking run or pressing Shift+Enter) will list all files under the input directory\n",
    "\n",
    "import os\n",
    "for dirname, _, filenames in os.walk('/kaggle/input'):\n",
    "    for filename in filenames:\n",
    "        print(os.path.join(dirname, filename))\n",
    "\n",
    "# You can write up to 20GB to the current directory (/kaggle/working/) that gets preserved as output when you create a version using \"Save & Run All\" \n",
    "# You can also write temporary files to /kaggle/temp/, but they won't be saved outside of the current session"
   ]
  },
  {
   "cell_type": "code",
   "execution_count": 2,
   "metadata": {},
   "outputs": [],
   "source": [
    "X_train = pd.read_csv('/kaggle/input/home-data-for-ml-course/train.csv',index_col='Id')\n",
    "X_test = pd.read_csv('/kaggle/input/home-data-for-ml-course/test.csv', index_col='Id')"
   ]
  },
  {
   "cell_type": "code",
   "execution_count": 3,
   "metadata": {},
   "outputs": [],
   "source": [
    "X_train.dropna(axis=0, subset=['SalePrice'], inplace=True)\n",
    "y = X_train.SalePrice\n",
    "X_train.drop(['SalePrice'], axis=1, inplace=True)"
   ]
  },
  {
   "cell_type": "code",
   "execution_count": 4,
   "metadata": {},
   "outputs": [],
   "source": [
    "nobject_cols = [col for col in X_test.columns if X_test[col].dtype != \"object\"]\n",
    "object_cols = [col for col in X_test.columns if X_test[col].dtype == \"object\"]\n",
    "obj_columns = [ col for col in object_cols if X_test[col].isnull().any()]\n",
    "nobj_columns = [ col for col in nobject_cols if X_test[col].isnull().any()]\n",
    "low_cardinality_cols = [col for col in object_cols if X_test[col].nunique() < 10]"
   ]
  },
  {
   "cell_type": "code",
   "execution_count": 12,
   "metadata": {
    "collapsed": true
   },
   "outputs": [
    {
     "data": {
      "text/plain": [
       "Int64Index([1461, 1462, 1463, 1464, 1465, 1466, 1467, 1468, 1469, 1470,\n",
       "            ...\n",
       "            2910, 2911, 2912, 2913, 2914, 2915, 2916, 2917, 2918, 2919],\n",
       "           dtype='int64', name='Id', length=1459)"
      ]
     },
     "execution_count": 12,
     "metadata": {},
     "output_type": "execute_result"
    }
   ],
   "source": [
    "from sklearn.preprocessing import OneHotEncoder\n",
    "X_obj = X_train.copy()\n",
    "X_test_obj = X_test.copy()\n",
    "oh_encoder =OneHotEncoder(handle_unknown='ignore', sparse=False)\n",
    "OH_cols_train = pd.DataFrame(oh_encoder.fit_transform(X_obj[low_cardinality_cols])) \n",
    "OH_cols_test = pd.DataFrame(oh_encoder.transform(X_test_obj[low_cardinality_cols])) \n",
    "OH_cols_train.index = X_obj.index\n",
    "OH_cols_test.index = X_test_obj.index\n",
    "# Remove categorical columns (will replace with one-hot encoding)\n",
    "num_X_train = X_obj.drop(object_cols, axis=1)\n",
    "num_X_test = X_test_obj.drop(object_cols, axis=1)\n",
    "\n",
    "# Add one-hot encoded columns to numerical features\n",
    "X_obj = pd.concat([num_X_train, OH_cols_train], axis=1)\n",
    "X_test_obj = pd.concat([num_X_test, OH_cols_test], axis=1)\n"
   ]
  },
  {
   "cell_type": "code",
   "execution_count": 16,
   "metadata": {},
   "outputs": [],
   "source": [
    "from sklearn.impute import SimpleImputer\n",
    "\n",
    "X_nobj_plus = X_obj.copy()\n",
    "X_test_nobj_plus = X_test_obj.copy()\n",
    "\n",
    "for col in nobj_columns:\n",
    "    X_nobj_plus[col + '_was_missing'] = X_nobj_plus[col].isnull()\n",
    "    X_test_nobj_plus[col + '_was_missing'] = X_test_nobj_plus[col].isnull()\n",
    "\n",
    "impute = SimpleImputer()\n",
    "final_X_nobj = pd.DataFrame(impute.fit_transform(X_nobj_plus))\n",
    "final_X_test_nobj = pd.DataFrame(impute.transform(X_test_nobj_plus))\n",
    "\n",
    "# Fill in the lines below: imputation removed column names; put them back\n",
    "final_X_nobj.columns = X_nobj_plus.columns\n",
    "final_X_test_nobj.columns = X_test_nobj_plus.columns\n",
    "final_X_nobj.index = X_obj.index\n",
    "final_X_test_nobj.index = X_test_obj.index"
   ]
  },
  {
   "cell_type": "code",
   "execution_count": 17,
   "metadata": {},
   "outputs": [],
   "source": [
    "from sklearn.ensemble import RandomForestRegressor\n",
    "\n",
    "model = RandomForestRegressor(n_estimators=100,random_state=0)\n",
    "model.fit(final_X_nobj,y)\n",
    "pred = model.predict(final_X_test_nobj)\n",
    "output = pd.DataFrame({'Id': final_X_test_nobj.index,\n",
    "                       'SalePrice': pred})\n",
    "output.to_csv('submission.csv', index=False)"
   ]
  },
  {
   "cell_type": "code",
   "execution_count": 18,
   "metadata": {},
   "outputs": [
    {
     "data": {
      "text/html": [
       "<div>\n",
       "<style scoped>\n",
       "    .dataframe tbody tr th:only-of-type {\n",
       "        vertical-align: middle;\n",
       "    }\n",
       "\n",
       "    .dataframe tbody tr th {\n",
       "        vertical-align: top;\n",
       "    }\n",
       "\n",
       "    .dataframe thead th {\n",
       "        text-align: right;\n",
       "    }\n",
       "</style>\n",
       "<table border=\"1\" class=\"dataframe\">\n",
       "  <thead>\n",
       "    <tr style=\"text-align: right;\">\n",
       "      <th></th>\n",
       "      <th>Id</th>\n",
       "      <th>SalePrice</th>\n",
       "    </tr>\n",
       "  </thead>\n",
       "  <tbody>\n",
       "    <tr>\n",
       "      <th>0</th>\n",
       "      <td>1461</td>\n",
       "      <td>127014.58</td>\n",
       "    </tr>\n",
       "    <tr>\n",
       "      <th>1</th>\n",
       "      <td>1462</td>\n",
       "      <td>155681.00</td>\n",
       "    </tr>\n",
       "    <tr>\n",
       "      <th>2</th>\n",
       "      <td>1463</td>\n",
       "      <td>178072.01</td>\n",
       "    </tr>\n",
       "    <tr>\n",
       "      <th>3</th>\n",
       "      <td>1464</td>\n",
       "      <td>181484.90</td>\n",
       "    </tr>\n",
       "    <tr>\n",
       "      <th>4</th>\n",
       "      <td>1465</td>\n",
       "      <td>199703.96</td>\n",
       "    </tr>\n",
       "    <tr>\n",
       "      <th>...</th>\n",
       "      <td>...</td>\n",
       "      <td>...</td>\n",
       "    </tr>\n",
       "    <tr>\n",
       "      <th>1454</th>\n",
       "      <td>2915</td>\n",
       "      <td>84244.11</td>\n",
       "    </tr>\n",
       "    <tr>\n",
       "      <th>1455</th>\n",
       "      <td>2916</td>\n",
       "      <td>86480.50</td>\n",
       "    </tr>\n",
       "    <tr>\n",
       "      <th>1456</th>\n",
       "      <td>2917</td>\n",
       "      <td>151158.99</td>\n",
       "    </tr>\n",
       "    <tr>\n",
       "      <th>1457</th>\n",
       "      <td>2918</td>\n",
       "      <td>112947.00</td>\n",
       "    </tr>\n",
       "    <tr>\n",
       "      <th>1458</th>\n",
       "      <td>2919</td>\n",
       "      <td>227762.84</td>\n",
       "    </tr>\n",
       "  </tbody>\n",
       "</table>\n",
       "<p>1459 rows × 2 columns</p>\n",
       "</div>"
      ],
      "text/plain": [
       "        Id  SalePrice\n",
       "0     1461  127014.58\n",
       "1     1462  155681.00\n",
       "2     1463  178072.01\n",
       "3     1464  181484.90\n",
       "4     1465  199703.96\n",
       "...    ...        ...\n",
       "1454  2915   84244.11\n",
       "1455  2916   86480.50\n",
       "1456  2917  151158.99\n",
       "1457  2918  112947.00\n",
       "1458  2919  227762.84\n",
       "\n",
       "[1459 rows x 2 columns]"
      ]
     },
     "execution_count": 18,
     "metadata": {},
     "output_type": "execute_result"
    }
   ],
   "source": [
    "output"
   ]
  }
 ],
 "metadata": {
  "kernelspec": {
   "display_name": "Python 3",
   "language": "python",
   "name": "python3"
  },
  "language_info": {
   "codemirror_mode": {
    "name": "ipython",
    "version": 3
   },
   "file_extension": ".py",
   "mimetype": "text/x-python",
   "name": "python",
   "nbconvert_exporter": "python",
   "pygments_lexer": "ipython3",
   "version": "3.8.5"
  }
 },
 "nbformat": 4,
 "nbformat_minor": 4
}
