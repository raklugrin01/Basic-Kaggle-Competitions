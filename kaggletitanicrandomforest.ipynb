{
 "cells": [
  {
   "cell_type": "code",
   "execution_count": 1,
   "id": "billion-southeast",
   "metadata": {
    "_cell_guid": "b1076dfc-b9ad-4769-8c92-a6c4dae69d19",
    "_uuid": "8f2839f25d086af736a60e9eeb907d3b93b6e0e5",
    "execution": {
     "iopub.execute_input": "2021-05-08T21:35:59.299016Z",
     "iopub.status.busy": "2021-05-08T21:35:59.297849Z",
     "iopub.status.idle": "2021-05-08T21:35:59.312827Z",
     "shell.execute_reply": "2021-05-08T21:35:59.311552Z"
    },
    "papermill": {
     "duration": 0.030085,
     "end_time": "2021-05-08T21:35:59.313089",
     "exception": false,
     "start_time": "2021-05-08T21:35:59.283004",
     "status": "completed"
    },
    "tags": []
   },
   "outputs": [
    {
     "name": "stdout",
     "output_type": "stream",
     "text": [
      "/kaggle/input/titanic/train.csv\n",
      "/kaggle/input/titanic/test.csv\n",
      "/kaggle/input/titanic/gender_submission.csv\n"
     ]
    }
   ],
   "source": [
    "# This Python 3 environment comes with many helpful analytics libraries installed\n",
    "# It is defined by the kaggle/python Docker image: https://github.com/kaggle/docker-python\n",
    "# For example, here's several helpful packages to load\n",
    "\n",
    "import numpy as np # linear algebra\n",
    "import pandas as pd # data processing, CSV file I/O (e.g. pd.read_csv)\n",
    "\n",
    "# Input data files are available in the read-only \"../input/\" directory\n",
    "# For example, running this (by clicking run or pressing Shift+Enter) will list all files under the input directory\n",
    "\n",
    "import os\n",
    "for dirname, _, filenames in os.walk('/kaggle/input'):\n",
    "    for filename in filenames:\n",
    "        print(os.path.join(dirname, filename))\n",
    "\n",
    "# You can write up to 20GB to the current directory (/kaggle/working/) that gets preserved as output when you create a version using \"Save & Run All\" \n",
    "# You can also write temporary files to /kaggle/temp/, but they won't be saved outside of the current session"
   ]
  },
  {
   "cell_type": "code",
   "execution_count": 2,
   "id": "mental-invite",
   "metadata": {
    "execution": {
     "iopub.execute_input": "2021-05-08T21:35:59.340169Z",
     "iopub.status.busy": "2021-05-08T21:35:59.339493Z",
     "iopub.status.idle": "2021-05-08T21:35:59.376297Z",
     "shell.execute_reply": "2021-05-08T21:35:59.376856Z"
    },
    "papermill": {
     "duration": 0.052597,
     "end_time": "2021-05-08T21:35:59.377038",
     "exception": false,
     "start_time": "2021-05-08T21:35:59.324441",
     "status": "completed"
    },
    "tags": []
   },
   "outputs": [],
   "source": [
    "train_data = pd.read_csv('/kaggle/input/titanic/train.csv')\n",
    "test_data = pd.read_csv('/kaggle/input/titanic/test.csv')"
   ]
  },
  {
   "cell_type": "code",
   "execution_count": 3,
   "id": "encouraging-partner",
   "metadata": {
    "execution": {
     "iopub.execute_input": "2021-05-08T21:35:59.400507Z",
     "iopub.status.busy": "2021-05-08T21:35:59.399872Z",
     "iopub.status.idle": "2021-05-08T21:35:59.434684Z",
     "shell.execute_reply": "2021-05-08T21:35:59.435283Z"
    },
    "papermill": {
     "duration": 0.048689,
     "end_time": "2021-05-08T21:35:59.435457",
     "exception": false,
     "start_time": "2021-05-08T21:35:59.386768",
     "status": "completed"
    },
    "tags": []
   },
   "outputs": [
    {
     "data": {
      "text/html": [
       "<div>\n",
       "<style scoped>\n",
       "    .dataframe tbody tr th:only-of-type {\n",
       "        vertical-align: middle;\n",
       "    }\n",
       "\n",
       "    .dataframe tbody tr th {\n",
       "        vertical-align: top;\n",
       "    }\n",
       "\n",
       "    .dataframe thead th {\n",
       "        text-align: right;\n",
       "    }\n",
       "</style>\n",
       "<table border=\"1\" class=\"dataframe\">\n",
       "  <thead>\n",
       "    <tr style=\"text-align: right;\">\n",
       "      <th></th>\n",
       "      <th>PassengerId</th>\n",
       "      <th>Survived</th>\n",
       "      <th>Pclass</th>\n",
       "      <th>Name</th>\n",
       "      <th>Sex</th>\n",
       "      <th>Age</th>\n",
       "      <th>SibSp</th>\n",
       "      <th>Parch</th>\n",
       "      <th>Ticket</th>\n",
       "      <th>Fare</th>\n",
       "      <th>Cabin</th>\n",
       "      <th>Embarked</th>\n",
       "    </tr>\n",
       "  </thead>\n",
       "  <tbody>\n",
       "    <tr>\n",
       "      <th>0</th>\n",
       "      <td>1</td>\n",
       "      <td>0</td>\n",
       "      <td>3</td>\n",
       "      <td>Braund, Mr. Owen Harris</td>\n",
       "      <td>male</td>\n",
       "      <td>22.0</td>\n",
       "      <td>1</td>\n",
       "      <td>0</td>\n",
       "      <td>A/5 21171</td>\n",
       "      <td>7.2500</td>\n",
       "      <td>NaN</td>\n",
       "      <td>S</td>\n",
       "    </tr>\n",
       "    <tr>\n",
       "      <th>1</th>\n",
       "      <td>2</td>\n",
       "      <td>1</td>\n",
       "      <td>1</td>\n",
       "      <td>Cumings, Mrs. John Bradley (Florence Briggs Th...</td>\n",
       "      <td>female</td>\n",
       "      <td>38.0</td>\n",
       "      <td>1</td>\n",
       "      <td>0</td>\n",
       "      <td>PC 17599</td>\n",
       "      <td>71.2833</td>\n",
       "      <td>C85</td>\n",
       "      <td>C</td>\n",
       "    </tr>\n",
       "    <tr>\n",
       "      <th>2</th>\n",
       "      <td>3</td>\n",
       "      <td>1</td>\n",
       "      <td>3</td>\n",
       "      <td>Heikkinen, Miss. Laina</td>\n",
       "      <td>female</td>\n",
       "      <td>26.0</td>\n",
       "      <td>0</td>\n",
       "      <td>0</td>\n",
       "      <td>STON/O2. 3101282</td>\n",
       "      <td>7.9250</td>\n",
       "      <td>NaN</td>\n",
       "      <td>S</td>\n",
       "    </tr>\n",
       "    <tr>\n",
       "      <th>3</th>\n",
       "      <td>4</td>\n",
       "      <td>1</td>\n",
       "      <td>1</td>\n",
       "      <td>Futrelle, Mrs. Jacques Heath (Lily May Peel)</td>\n",
       "      <td>female</td>\n",
       "      <td>35.0</td>\n",
       "      <td>1</td>\n",
       "      <td>0</td>\n",
       "      <td>113803</td>\n",
       "      <td>53.1000</td>\n",
       "      <td>C123</td>\n",
       "      <td>S</td>\n",
       "    </tr>\n",
       "    <tr>\n",
       "      <th>4</th>\n",
       "      <td>5</td>\n",
       "      <td>0</td>\n",
       "      <td>3</td>\n",
       "      <td>Allen, Mr. William Henry</td>\n",
       "      <td>male</td>\n",
       "      <td>35.0</td>\n",
       "      <td>0</td>\n",
       "      <td>0</td>\n",
       "      <td>373450</td>\n",
       "      <td>8.0500</td>\n",
       "      <td>NaN</td>\n",
       "      <td>S</td>\n",
       "    </tr>\n",
       "  </tbody>\n",
       "</table>\n",
       "</div>"
      ],
      "text/plain": [
       "   PassengerId  Survived  Pclass  \\\n",
       "0            1         0       3   \n",
       "1            2         1       1   \n",
       "2            3         1       3   \n",
       "3            4         1       1   \n",
       "4            5         0       3   \n",
       "\n",
       "                                                Name     Sex   Age  SibSp  \\\n",
       "0                            Braund, Mr. Owen Harris    male  22.0      1   \n",
       "1  Cumings, Mrs. John Bradley (Florence Briggs Th...  female  38.0      1   \n",
       "2                             Heikkinen, Miss. Laina  female  26.0      0   \n",
       "3       Futrelle, Mrs. Jacques Heath (Lily May Peel)  female  35.0      1   \n",
       "4                           Allen, Mr. William Henry    male  35.0      0   \n",
       "\n",
       "   Parch            Ticket     Fare Cabin Embarked  \n",
       "0      0         A/5 21171   7.2500   NaN        S  \n",
       "1      0          PC 17599  71.2833   C85        C  \n",
       "2      0  STON/O2. 3101282   7.9250   NaN        S  \n",
       "3      0            113803  53.1000  C123        S  \n",
       "4      0            373450   8.0500   NaN        S  "
      ]
     },
     "execution_count": 3,
     "metadata": {},
     "output_type": "execute_result"
    }
   ],
   "source": [
    "train_data.head()"
   ]
  },
  {
   "cell_type": "code",
   "execution_count": 4,
   "id": "minus-survey",
   "metadata": {
    "execution": {
     "iopub.execute_input": "2021-05-08T21:35:59.459819Z",
     "iopub.status.busy": "2021-05-08T21:35:59.459194Z",
     "iopub.status.idle": "2021-05-08T21:35:59.475064Z",
     "shell.execute_reply": "2021-05-08T21:35:59.475892Z"
    },
    "papermill": {
     "duration": 0.030293,
     "end_time": "2021-05-08T21:35:59.476078",
     "exception": false,
     "start_time": "2021-05-08T21:35:59.445785",
     "status": "completed"
    },
    "tags": []
   },
   "outputs": [
    {
     "data": {
      "text/html": [
       "<div>\n",
       "<style scoped>\n",
       "    .dataframe tbody tr th:only-of-type {\n",
       "        vertical-align: middle;\n",
       "    }\n",
       "\n",
       "    .dataframe tbody tr th {\n",
       "        vertical-align: top;\n",
       "    }\n",
       "\n",
       "    .dataframe thead th {\n",
       "        text-align: right;\n",
       "    }\n",
       "</style>\n",
       "<table border=\"1\" class=\"dataframe\">\n",
       "  <thead>\n",
       "    <tr style=\"text-align: right;\">\n",
       "      <th></th>\n",
       "      <th>PassengerId</th>\n",
       "      <th>Pclass</th>\n",
       "      <th>Name</th>\n",
       "      <th>Sex</th>\n",
       "      <th>Age</th>\n",
       "      <th>SibSp</th>\n",
       "      <th>Parch</th>\n",
       "      <th>Ticket</th>\n",
       "      <th>Fare</th>\n",
       "      <th>Cabin</th>\n",
       "      <th>Embarked</th>\n",
       "    </tr>\n",
       "  </thead>\n",
       "  <tbody>\n",
       "    <tr>\n",
       "      <th>0</th>\n",
       "      <td>892</td>\n",
       "      <td>3</td>\n",
       "      <td>Kelly, Mr. James</td>\n",
       "      <td>male</td>\n",
       "      <td>34.5</td>\n",
       "      <td>0</td>\n",
       "      <td>0</td>\n",
       "      <td>330911</td>\n",
       "      <td>7.8292</td>\n",
       "      <td>NaN</td>\n",
       "      <td>Q</td>\n",
       "    </tr>\n",
       "    <tr>\n",
       "      <th>1</th>\n",
       "      <td>893</td>\n",
       "      <td>3</td>\n",
       "      <td>Wilkes, Mrs. James (Ellen Needs)</td>\n",
       "      <td>female</td>\n",
       "      <td>47.0</td>\n",
       "      <td>1</td>\n",
       "      <td>0</td>\n",
       "      <td>363272</td>\n",
       "      <td>7.0000</td>\n",
       "      <td>NaN</td>\n",
       "      <td>S</td>\n",
       "    </tr>\n",
       "    <tr>\n",
       "      <th>2</th>\n",
       "      <td>894</td>\n",
       "      <td>2</td>\n",
       "      <td>Myles, Mr. Thomas Francis</td>\n",
       "      <td>male</td>\n",
       "      <td>62.0</td>\n",
       "      <td>0</td>\n",
       "      <td>0</td>\n",
       "      <td>240276</td>\n",
       "      <td>9.6875</td>\n",
       "      <td>NaN</td>\n",
       "      <td>Q</td>\n",
       "    </tr>\n",
       "    <tr>\n",
       "      <th>3</th>\n",
       "      <td>895</td>\n",
       "      <td>3</td>\n",
       "      <td>Wirz, Mr. Albert</td>\n",
       "      <td>male</td>\n",
       "      <td>27.0</td>\n",
       "      <td>0</td>\n",
       "      <td>0</td>\n",
       "      <td>315154</td>\n",
       "      <td>8.6625</td>\n",
       "      <td>NaN</td>\n",
       "      <td>S</td>\n",
       "    </tr>\n",
       "    <tr>\n",
       "      <th>4</th>\n",
       "      <td>896</td>\n",
       "      <td>3</td>\n",
       "      <td>Hirvonen, Mrs. Alexander (Helga E Lindqvist)</td>\n",
       "      <td>female</td>\n",
       "      <td>22.0</td>\n",
       "      <td>1</td>\n",
       "      <td>1</td>\n",
       "      <td>3101298</td>\n",
       "      <td>12.2875</td>\n",
       "      <td>NaN</td>\n",
       "      <td>S</td>\n",
       "    </tr>\n",
       "  </tbody>\n",
       "</table>\n",
       "</div>"
      ],
      "text/plain": [
       "   PassengerId  Pclass                                          Name     Sex  \\\n",
       "0          892       3                              Kelly, Mr. James    male   \n",
       "1          893       3              Wilkes, Mrs. James (Ellen Needs)  female   \n",
       "2          894       2                     Myles, Mr. Thomas Francis    male   \n",
       "3          895       3                              Wirz, Mr. Albert    male   \n",
       "4          896       3  Hirvonen, Mrs. Alexander (Helga E Lindqvist)  female   \n",
       "\n",
       "    Age  SibSp  Parch   Ticket     Fare Cabin Embarked  \n",
       "0  34.5      0      0   330911   7.8292   NaN        Q  \n",
       "1  47.0      1      0   363272   7.0000   NaN        S  \n",
       "2  62.0      0      0   240276   9.6875   NaN        Q  \n",
       "3  27.0      0      0   315154   8.6625   NaN        S  \n",
       "4  22.0      1      1  3101298  12.2875   NaN        S  "
      ]
     },
     "execution_count": 4,
     "metadata": {},
     "output_type": "execute_result"
    }
   ],
   "source": [
    "test_data.head()"
   ]
  },
  {
   "cell_type": "code",
   "execution_count": 5,
   "id": "appropriate-liquid",
   "metadata": {
    "execution": {
     "iopub.execute_input": "2021-05-08T21:35:59.502489Z",
     "iopub.status.busy": "2021-05-08T21:35:59.501856Z",
     "iopub.status.idle": "2021-05-08T21:35:59.513511Z",
     "shell.execute_reply": "2021-05-08T21:35:59.514016Z"
    },
    "papermill": {
     "duration": 0.026513,
     "end_time": "2021-05-08T21:35:59.514204",
     "exception": false,
     "start_time": "2021-05-08T21:35:59.487691",
     "status": "completed"
    },
    "tags": []
   },
   "outputs": [
    {
     "data": {
      "text/plain": [
       "S    270\n",
       "C    102\n",
       "Q     46\n",
       "Name: Embarked, dtype: int64"
      ]
     },
     "execution_count": 5,
     "metadata": {},
     "output_type": "execute_result"
    }
   ],
   "source": [
    "test_data['Embarked'].value_counts()"
   ]
  },
  {
   "cell_type": "code",
   "execution_count": 6,
   "id": "becoming-sentence",
   "metadata": {
    "execution": {
     "iopub.execute_input": "2021-05-08T21:35:59.552378Z",
     "iopub.status.busy": "2021-05-08T21:35:59.551649Z",
     "iopub.status.idle": "2021-05-08T21:35:59.553748Z",
     "shell.execute_reply": "2021-05-08T21:35:59.554211Z"
    },
    "papermill": {
     "duration": 0.028765,
     "end_time": "2021-05-08T21:35:59.554413",
     "exception": false,
     "start_time": "2021-05-08T21:35:59.525648",
     "status": "completed"
    },
    "tags": []
   },
   "outputs": [],
   "source": [
    "features = ['Pclass','Sex','Age','SibSp','Parch','Embarked']\n",
    "# creating bool series True for NaN values \n",
    "bool_seriesTr = pd.isnull(train_data['Age']).sum()\n",
    "avgAgeTr=train_data['Age'].sum()/(train_data['Age'].count()-bool_seriesTr)\n",
    "bool_seriesTe = pd.isnull(test_data['Age']).sum()\n",
    "avgAgeTe=test_data['Age'].sum()/(test_data['Age'].count()-bool_seriesTe)\n",
    "#61,829\n",
    "# filtering data \n",
    "# displaying data \n",
    "\n",
    "train_data[\"Age\"].fillna(avgAgeTr, inplace = True)\n",
    "train_data[\"Embarked\"].fillna('S',inplace = True)\n",
    "test_data[\"Age\"].fillna(avgAgeTe, inplace = True)\n",
    "test_data[\"Embarked\"].fillna('S',inplace = True)"
   ]
  },
  {
   "cell_type": "code",
   "execution_count": 7,
   "id": "crude-institution",
   "metadata": {
    "execution": {
     "iopub.execute_input": "2021-05-08T21:35:59.582027Z",
     "iopub.status.busy": "2021-05-08T21:35:59.581389Z",
     "iopub.status.idle": "2021-05-08T21:35:59.609976Z",
     "shell.execute_reply": "2021-05-08T21:35:59.608445Z"
    },
    "papermill": {
     "duration": 0.043301,
     "end_time": "2021-05-08T21:35:59.610199",
     "exception": false,
     "start_time": "2021-05-08T21:35:59.566898",
     "status": "completed"
    },
    "tags": []
   },
   "outputs": [],
   "source": [
    "y_train = train_data[\"Survived\"]\n",
    "features = ['Pclass','Sex','Age','SibSp','Parch','Embarked']\n",
    "X_train = pd.get_dummies(train_data[features])\n",
    "X_test = pd.get_dummies(test_data[features])"
   ]
  },
  {
   "cell_type": "code",
   "execution_count": 8,
   "id": "southeast-romania",
   "metadata": {
    "execution": {
     "iopub.execute_input": "2021-05-08T21:35:59.641304Z",
     "iopub.status.busy": "2021-05-08T21:35:59.640383Z",
     "iopub.status.idle": "2021-05-08T21:36:00.998960Z",
     "shell.execute_reply": "2021-05-08T21:36:00.998355Z"
    },
    "papermill": {
     "duration": 1.376883,
     "end_time": "2021-05-08T21:36:00.999179",
     "exception": false,
     "start_time": "2021-05-08T21:35:59.622296",
     "status": "completed"
    },
    "tags": []
   },
   "outputs": [],
   "source": [
    "from sklearn.ensemble import RandomForestClassifier\n",
    "rfc = RandomForestClassifier()\n",
    "parameters = {\n",
    "    \"n_estimators\":[5,10,50,100,250,500],\n",
    "    \"max_depth\":[2,3,4,5,8,10,16,32,None]\n",
    "    \n",
    "}"
   ]
  },
  {
   "cell_type": "code",
   "execution_count": 9,
   "id": "intensive-bhutan",
   "metadata": {
    "execution": {
     "iopub.execute_input": "2021-05-08T21:36:01.034879Z",
     "iopub.status.busy": "2021-05-08T21:36:01.034191Z",
     "iopub.status.idle": "2021-05-08T21:37:31.565582Z",
     "shell.execute_reply": "2021-05-08T21:37:31.564828Z"
    },
    "papermill": {
     "duration": 90.55326,
     "end_time": "2021-05-08T21:37:31.565767",
     "exception": false,
     "start_time": "2021-05-08T21:36:01.012507",
     "status": "completed"
    },
    "tags": []
   },
   "outputs": [],
   "source": [
    "from sklearn.model_selection import GridSearchCV\n",
    "cv = GridSearchCV(rfc,parameters,cv=5)\n",
    "cv.fit(X_train,y_train.values.ravel())\n",
    "\n",
    "def display(results):\n",
    "    print(f'Best parameters are: {results.best_params_}')\n",
    "    print(\"\\n\")\n",
    "    mean_score = results.cv_results_['mean_test_score']\n",
    "    std_score = results.cv_results_['std_test_score']\n",
    "    params = results.cv_results_['params']\n",
    "    for mean,std,params in zip(mean_score,std_score,params):\n",
    "        print(f'{round(mean,3)} + or -{round(std,3)} for the {params}')"
   ]
  },
  {
   "cell_type": "code",
   "execution_count": 10,
   "id": "primary-baker",
   "metadata": {
    "execution": {
     "iopub.execute_input": "2021-05-08T21:37:31.596453Z",
     "iopub.status.busy": "2021-05-08T21:37:31.595475Z",
     "iopub.status.idle": "2021-05-08T21:37:31.611375Z",
     "shell.execute_reply": "2021-05-08T21:37:31.612279Z"
    },
    "papermill": {
     "duration": 0.033984,
     "end_time": "2021-05-08T21:37:31.612512",
     "exception": false,
     "start_time": "2021-05-08T21:37:31.578528",
     "status": "completed"
    },
    "tags": []
   },
   "outputs": [
    {
     "name": "stdout",
     "output_type": "stream",
     "text": [
      "Best parameters are: {'max_depth': 4, 'n_estimators': 500}\n",
      "\n",
      "\n",
      "0.797 + or -0.022 for the {'max_depth': 2, 'n_estimators': 5}\n",
      "0.79 + or -0.023 for the {'max_depth': 2, 'n_estimators': 10}\n",
      "0.789 + or -0.021 for the {'max_depth': 2, 'n_estimators': 50}\n",
      "0.788 + or -0.02 for the {'max_depth': 2, 'n_estimators': 100}\n",
      "0.789 + or -0.021 for the {'max_depth': 2, 'n_estimators': 250}\n",
      "0.787 + or -0.019 for the {'max_depth': 2, 'n_estimators': 500}\n",
      "0.806 + or -0.01 for the {'max_depth': 3, 'n_estimators': 5}\n",
      "0.81 + or -0.019 for the {'max_depth': 3, 'n_estimators': 10}\n",
      "0.809 + or -0.014 for the {'max_depth': 3, 'n_estimators': 50}\n",
      "0.809 + or -0.017 for the {'max_depth': 3, 'n_estimators': 100}\n",
      "0.805 + or -0.019 for the {'max_depth': 3, 'n_estimators': 250}\n",
      "0.81 + or -0.015 for the {'max_depth': 3, 'n_estimators': 500}\n",
      "0.816 + or -0.021 for the {'max_depth': 4, 'n_estimators': 5}\n",
      "0.816 + or -0.019 for the {'max_depth': 4, 'n_estimators': 10}\n",
      "0.818 + or -0.018 for the {'max_depth': 4, 'n_estimators': 50}\n",
      "0.815 + or -0.02 for the {'max_depth': 4, 'n_estimators': 100}\n",
      "0.822 + or -0.014 for the {'max_depth': 4, 'n_estimators': 250}\n",
      "0.827 + or -0.02 for the {'max_depth': 4, 'n_estimators': 500}\n",
      "0.808 + or -0.019 for the {'max_depth': 5, 'n_estimators': 5}\n",
      "0.824 + or -0.018 for the {'max_depth': 5, 'n_estimators': 10}\n",
      "0.825 + or -0.018 for the {'max_depth': 5, 'n_estimators': 50}\n",
      "0.822 + or -0.02 for the {'max_depth': 5, 'n_estimators': 100}\n",
      "0.824 + or -0.021 for the {'max_depth': 5, 'n_estimators': 250}\n",
      "0.824 + or -0.019 for the {'max_depth': 5, 'n_estimators': 500}\n",
      "0.796 + or -0.024 for the {'max_depth': 8, 'n_estimators': 5}\n",
      "0.8 + or -0.022 for the {'max_depth': 8, 'n_estimators': 10}\n",
      "0.81 + or -0.02 for the {'max_depth': 8, 'n_estimators': 50}\n",
      "0.805 + or -0.033 for the {'max_depth': 8, 'n_estimators': 100}\n",
      "0.808 + or -0.024 for the {'max_depth': 8, 'n_estimators': 250}\n",
      "0.807 + or -0.025 for the {'max_depth': 8, 'n_estimators': 500}\n",
      "0.801 + or -0.04 for the {'max_depth': 10, 'n_estimators': 5}\n",
      "0.802 + or -0.014 for the {'max_depth': 10, 'n_estimators': 10}\n",
      "0.804 + or -0.03 for the {'max_depth': 10, 'n_estimators': 50}\n",
      "0.806 + or -0.033 for the {'max_depth': 10, 'n_estimators': 100}\n",
      "0.807 + or -0.028 for the {'max_depth': 10, 'n_estimators': 250}\n",
      "0.807 + or -0.027 for the {'max_depth': 10, 'n_estimators': 500}\n",
      "0.792 + or -0.02 for the {'max_depth': 16, 'n_estimators': 5}\n",
      "0.797 + or -0.036 for the {'max_depth': 16, 'n_estimators': 10}\n",
      "0.796 + or -0.033 for the {'max_depth': 16, 'n_estimators': 50}\n",
      "0.798 + or -0.029 for the {'max_depth': 16, 'n_estimators': 100}\n",
      "0.803 + or -0.023 for the {'max_depth': 16, 'n_estimators': 250}\n",
      "0.801 + or -0.031 for the {'max_depth': 16, 'n_estimators': 500}\n",
      "0.782 + or -0.032 for the {'max_depth': 32, 'n_estimators': 5}\n",
      "0.795 + or -0.028 for the {'max_depth': 32, 'n_estimators': 10}\n",
      "0.796 + or -0.029 for the {'max_depth': 32, 'n_estimators': 50}\n",
      "0.8 + or -0.03 for the {'max_depth': 32, 'n_estimators': 100}\n",
      "0.801 + or -0.032 for the {'max_depth': 32, 'n_estimators': 250}\n",
      "0.801 + or -0.031 for the {'max_depth': 32, 'n_estimators': 500}\n",
      "0.788 + or -0.04 for the {'max_depth': None, 'n_estimators': 5}\n",
      "0.792 + or -0.024 for the {'max_depth': None, 'n_estimators': 10}\n",
      "0.792 + or -0.025 for the {'max_depth': None, 'n_estimators': 50}\n",
      "0.8 + or -0.032 for the {'max_depth': None, 'n_estimators': 100}\n",
      "0.799 + or -0.032 for the {'max_depth': None, 'n_estimators': 250}\n",
      "0.801 + or -0.031 for the {'max_depth': None, 'n_estimators': 500}\n"
     ]
    }
   ],
   "source": [
    "display(cv)"
   ]
  },
  {
   "cell_type": "code",
   "execution_count": 11,
   "id": "ready-destruction",
   "metadata": {
    "execution": {
     "iopub.execute_input": "2021-05-08T21:37:31.647574Z",
     "iopub.status.busy": "2021-05-08T21:37:31.646828Z",
     "iopub.status.idle": "2021-05-08T21:37:32.726711Z",
     "shell.execute_reply": "2021-05-08T21:37:32.725658Z"
    },
    "papermill": {
     "duration": 1.101057,
     "end_time": "2021-05-08T21:37:32.726885",
     "exception": false,
     "start_time": "2021-05-08T21:37:31.625828",
     "status": "completed"
    },
    "tags": []
   },
   "outputs": [
    {
     "name": "stdout",
     "output_type": "stream",
     "text": [
      "Your submission was successfully saved!\n"
     ]
    }
   ],
   "source": [
    "# Best parameters are: {'max_depth': 5, 'n_estimators': 500}\n",
    "model = RandomForestClassifier(n_estimators=500, max_depth=5, random_state=1)\n",
    "\n",
    "model.fit(X_train,y_train)\n",
    "\n",
    "predictions = model.predict(X_test)\n",
    "\n",
    "output = pd.DataFrame({\"PassengerId\":test_data[\"PassengerId\"],\"Survived\":predictions})\n",
    "output.to_csv('my_submission.csv', index=False)\n",
    "print(\"Your submission was successfully saved!\")\n"
   ]
  },
  {
   "cell_type": "code",
   "execution_count": null,
   "id": "adult-colombia",
   "metadata": {
    "papermill": {
     "duration": 0.012974,
     "end_time": "2021-05-08T21:37:32.753226",
     "exception": false,
     "start_time": "2021-05-08T21:37:32.740252",
     "status": "completed"
    },
    "tags": []
   },
   "outputs": [],
   "source": []
  }
 ],
 "metadata": {
  "kernelspec": {
   "display_name": "Python 3",
   "language": "python",
   "name": "python3"
  },
  "language_info": {
   "codemirror_mode": {
    "name": "ipython",
    "version": 3
   },
   "file_extension": ".py",
   "mimetype": "text/x-python",
   "name": "python",
   "nbconvert_exporter": "python",
   "pygments_lexer": "ipython3",
   "version": "3.7.10"
  },
  "papermill": {
   "default_parameters": {},
   "duration": 104.023246,
   "end_time": "2021-05-08T21:37:34.602686",
   "environment_variables": {},
   "exception": null,
   "input_path": "__notebook__.ipynb",
   "output_path": "__notebook__.ipynb",
   "parameters": {},
   "start_time": "2021-05-08T21:35:50.579440",
   "version": "2.3.3"
  }
 },
 "nbformat": 4,
 "nbformat_minor": 5
}
